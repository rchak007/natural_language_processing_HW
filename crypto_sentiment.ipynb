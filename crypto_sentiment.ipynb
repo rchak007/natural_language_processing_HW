{
 "cells": [
  {
   "cell_type": "markdown",
   "metadata": {},
   "source": [
    "# Unit 12 - Tales from the Crypto\n",
    "\n",
    "---\n"
   ]
  },
  {
   "cell_type": "markdown",
   "metadata": {},
   "source": [
    "## 1. Sentiment Analysis\n",
    "\n",
    "Use the [newsapi](https://newsapi.org/) to pull the latest news articles for Bitcoin and Ethereum and create a DataFrame of sentiment scores for each coin.\n",
    "\n",
    "Use descriptive statistics to answer the following questions:\n",
    "1. Which coin had the highest mean positive score?\n",
    "2. Which coin had the highest negative score?\n",
    "3. Which coin had the highest positive score?"
   ]
  },
  {
   "cell_type": "code",
   "execution_count": 5,
   "metadata": {},
   "outputs": [
    {
     "name": "stderr",
     "output_type": "stream",
     "text": [
      "[nltk_data] Downloading package vader_lexicon to\n",
      "[nltk_data]     C:\\Users\\chakravartiraghavan\\AppData\\Roaming\\nltk_data\n",
      "[nltk_data]     ...\n",
      "[nltk_data]   Package vader_lexicon is already up-to-date!\n"
     ]
    }
   ],
   "source": [
    "# Initial imports\n",
    "import os\n",
    "import pandas as pd\n",
    "from dotenv import load_dotenv\n",
    "import nltk as nltk\n",
    "nltk.download('vader_lexicon')\n",
    "from nltk.sentiment.vader import SentimentIntensityAnalyzer\n",
    "analyzer = SentimentIntensityAnalyzer()\n",
    "\n",
    "%matplotlib inline\n",
    "from newsapi import NewsApiClient"
   ]
  },
  {
   "cell_type": "code",
   "execution_count": 6,
   "metadata": {},
   "outputs": [],
   "source": [
    "# Read your api key environment variable\n",
    "# YOUR CODE HERE!\n",
    "# Reading the News API key enviroment variable\n",
    "load_dotenv()\n",
    "api_key = os.getenv(\"news_api\")"
   ]
  },
  {
   "cell_type": "code",
   "execution_count": 7,
   "metadata": {},
   "outputs": [],
   "source": [
    "# Create a newsapi client\n",
    "# YOUR CODE HERE!\n",
    "# Create a newsapi client\n",
    "newsapi = NewsApiClient(api_key=api_key)"
   ]
  },
  {
   "cell_type": "code",
   "execution_count": 12,
   "metadata": {},
   "outputs": [],
   "source": [
    "# Fetch the Bitcoin news articles\n",
    "# YOUR CODE HERE!\n",
    "btc_news = newsapi.get_everything(\n",
    "    q=\"bitcoin\",\n",
    "    language=\"en\",\n",
    "#    page_size=100,\n",
    "    sort_by=\"relevancy\"\n",
    ")"
   ]
  },
  {
   "cell_type": "code",
   "execution_count": 37,
   "metadata": {},
   "outputs": [
    {
     "name": "stdout",
     "output_type": "stream",
     "text": [
      "Total articles about Bitcoin: 8356\n"
     ]
    },
    {
     "data": {
      "text/plain": [
       "{'source': {'id': 'mashable', 'name': 'Mashable'},\n",
       " 'author': 'Stan Schroeder',\n",
       " 'title': 'Elon Musk says Tesla will resume Bitcoin purchases when Bitcoin gets greener',\n",
       " 'description': \"It's all about clean energy, it seems.\\xa0\\nElon Musk and Tesla caused ripples in the cryptocurrency market in the past few months, first by announcing that Tesla had bought $1.5 billion worth of bitcoins and that it will start accepting Bitcoin for purchases, an…\",\n",
       " 'url': 'https://mashable.com/article/tesla-bitcoin-purchases-green/',\n",
       " 'urlToImage': 'https://mondrian.mashable.com/2021%252F06%252F14%252Fcc%252Faf6b974e89a64972a334f8675f5dc80a.36e5a.jpg%252F1200x630.jpg?signature=XiWTfhyod6_Xl2i4nyhER_1xCXQ=',\n",
       " 'publishedAt': '2021-06-14T07:15:49Z',\n",
       " 'content': \"It's all about clean energy, it seems.\\xa0\\r\\nElon Musk and Tesla caused ripples in the cryptocurrency market in the past few months, first by announcing that Tesla had bought $1.5 billion worth of bitcoi… [+2508 chars]\"}"
      ]
     },
     "execution_count": 37,
     "metadata": {},
     "output_type": "execute_result"
    }
   ],
   "source": [
    "# Print total articles\n",
    "print(f\"Total articles about Bitcoin: {btc_news['totalResults']}\")\n",
    "\n",
    "# Show sample article\n",
    "btc_news[\"articles\"][0]"
   ]
  },
  {
   "cell_type": "code",
   "execution_count": 40,
   "metadata": {},
   "outputs": [
    {
     "data": {
      "text/plain": [
       "{'status': 'ok',\n",
       " 'totalResults': 8356,\n",
       " 'articles': [{'source': {'id': 'mashable', 'name': 'Mashable'},\n",
       "   'author': 'Stan Schroeder',\n",
       "   'title': 'Elon Musk says Tesla will resume Bitcoin purchases when Bitcoin gets greener',\n",
       "   'description': \"It's all about clean energy, it seems.\\xa0\\nElon Musk and Tesla caused ripples in the cryptocurrency market in the past few months, first by announcing that Tesla had bought $1.5 billion worth of bitcoins and that it will start accepting Bitcoin for purchases, an…\",\n",
       "   'url': 'https://mashable.com/article/tesla-bitcoin-purchases-green/',\n",
       "   'urlToImage': 'https://mondrian.mashable.com/2021%252F06%252F14%252Fcc%252Faf6b974e89a64972a334f8675f5dc80a.36e5a.jpg%252F1200x630.jpg?signature=XiWTfhyod6_Xl2i4nyhER_1xCXQ=',\n",
       "   'publishedAt': '2021-06-14T07:15:49Z',\n",
       "   'content': \"It's all about clean energy, it seems.\\xa0\\r\\nElon Musk and Tesla caused ripples in the cryptocurrency market in the past few months, first by announcing that Tesla had bought $1.5 billion worth of bitcoi… [+2508 chars]\"},\n",
       "  {'source': {'id': 'the-verge', 'name': 'The Verge'},\n",
       "   'author': 'Richard Lawler',\n",
       "   'title': 'Kaseya ransomware attackers demand $70 million, claim they infected over a million devices',\n",
       "   'description': 'Three days after ransomware attackers hijacked a managed services platform, recovery efforts continued. The REvil group is reportedly asking for as much as $70 million in Bitcoin to unlock the more than 1 million devices infected.',\n",
       "   'url': 'https://www.theverge.com/2021/7/5/22564054/ransomware-revil-kaseya-coop',\n",
       "   'urlToImage': 'https://cdn.vox-cdn.com/thumbor/nk-drxT0WYuHTTAQw6MhPgi4LK8=/0x146:2040x1214/fit-in/1200x630/cdn.vox-cdn.com/uploads/chorus_asset/file/8792137/acastro_170629_1777_0008_v2.jpg',\n",
       "   'publishedAt': '2021-07-05T19:45:10Z',\n",
       "   'content': 'Filed under:\\r\\nThe supply chain attack has reached over a thousand organizations.\\r\\nIllustration by Alex Castro / The Verge\\r\\nThree days after ransomware attackers started the holiday weekend by comprom… [+3376 chars]'},\n",
       "  {'source': {'id': 'bbc-news', 'name': 'BBC News'},\n",
       "   'author': 'https://www.facebook.com/bbcnews',\n",
       "   'title': 'Gang behind huge cyber-attack demands $70m in Bitcoin',\n",
       "   'description': 'The authors of a \"colossal\" ransomware attack demand the sum in Bitcoin in return for a key to unlock all files.',\n",
       "   'url': 'https://www.bbc.co.uk/news/technology-57719820',\n",
       "   'urlToImage': 'https://ichef.bbci.co.uk/news/1024/branded_news/4532/production/_119241771_gettyimages-645051326.jpg',\n",
       "   'publishedAt': '2021-07-05T12:14:34Z',\n",
       "   'content': 'image copyrightGetty Images\\r\\nThe gang behind a \"colossal\" ransomware attack has demanded $70m (£50.5m) paid in Bitcoin in return for a \"universal decryptor\" that it says will unlock the files of all … [+4140 chars]'},\n",
       "  {'source': {'id': 'reuters', 'name': 'Reuters'},\n",
       "   'author': 'Reuters',\n",
       "   'title': 'El Salvador to keep dollar as legal tender, seeks World Bank help with bitcoin - Reuters',\n",
       "   'description': 'El Salvador will not replace the U.S. dollar with bitcoin as the legal tender, Finance Minister Alejandro Zelaya said on Wednesday, as the Central American nation sought technical assistance from the World Bank to implement bitcoin regulation.',\n",
       "   'url': 'https://www.reuters.com/business/el-salvador-keep-dollar-legal-tender-seeks-world-bank-help-with-bitcoin-2021-06-16/',\n",
       "   'urlToImage': 'https://www.reuters.com/resizer/8_ZpjJnVb-UkP6DjxQHhV7Lywbk=/800x419/smart/filters:quality(80)/cloudfront-us-east-2.images.arcpublishing.com/reuters/UR6HS3FP5VLU3GKVDXNYGMHZFI.jpg',\n",
       "   'publishedAt': '2021-06-16T17:34:00Z',\n",
       "   'content': 'SAN SALVADOR, June 16 (Reuters) - El Salvador will not replace the U.S. dollar with bitcoin as the legal tender, Finance Minister Alejandro Zelaya said on Wednesday, as the Central American nation so… [+1266 chars]'},\n",
       "  {'source': {'id': 'reuters', 'name': 'Reuters'},\n",
       "   'author': 'Tom Arnold,Karin Strohecker',\n",
       "   'title': 'El Salvador bitcoin plan \"bulletproof\", president says - Reuters',\n",
       "   'description': 'El Salvador is determined to push ahead with making bitcoin  legal tender, a process that will bring only small risks and prove a \"leap forward for humanity\", the country\\'s President Nayib Bukele said in an interview with a bitcoin journalist.',\n",
       "   'url': 'https://www.reuters.com/business/el-salvador-bitcoin-plan-bulletproof-president-says-2021-06-23/',\n",
       "   'urlToImage': 'https://www.reuters.com/resizer/-NVJNngENeVucFqs_thLKomcREk=/1200x628/smart/filters:quality(80)/cloudfront-us-east-2.images.arcpublishing.com/reuters/PAJVGKERRBLV3DPA6YELYMSRTQ.jpg',\n",
       "   'publishedAt': '2021-06-23T13:58:00Z',\n",
       "   'content': 'LONDON, June 23 (Reuters) - El Salvador is determined to push ahead with making bitcoin legal tender, a process that will bring only small risks and prove a \"leap forward for humanity\", the country\\'s… [+2764 chars]'},\n",
       "  {'source': {'id': 'reuters', 'name': 'Reuters'},\n",
       "   'author': 'Tom Arnold, Karin Strohecker',\n",
       "   'title': \"El Salvador bitcoin plan 'bulletproof', president says - Reuters\",\n",
       "   'description': 'El Salvador is determined to push ahead with making bitcoin legal tender, a process that will bring only small risks and prove a \"leap forward for humanity\", the country\\'s President Nayib Bukele said in an interview with a bitcoin journalist.',\n",
       "   'url': 'https://www.reuters.com/article/el-salvador-bitcoin-bukele-idUSL5N2O53AL',\n",
       "   'urlToImage': 'https://s1.reutersmedia.net/resources_v2/images/rcom-default.png?w=800',\n",
       "   'publishedAt': '2021-06-23T13:46:00Z',\n",
       "   'content': 'LONDON, June 23 (Reuters) - El Salvador is determined to push ahead with making bitcoin legal tender, a process that will bring only small risks and prove a leap forward for humanity, the countrys Pr… [+2648 chars]'},\n",
       "  {'source': {'id': 'reuters', 'name': 'Reuters'},\n",
       "   'author': 'Reuters Staff',\n",
       "   'title': 'UPDATE 1-El Salvador to keep dollar as legal tender, seeks World Bank help with bitcoin - Reuters',\n",
       "   'description': 'El Salvador will not replace the U.S. dollar with bitcoin as the legal tender, Finance Minister Alejandro Zelaya said on Wednesday, as the Central American nation sought technical assistance from the World Bank to implement bitcoin regulation.',\n",
       "   'url': 'https://www.reuters.com/article/us-el-salvador-imf-bitcoin-idUSKCN2DS241',\n",
       "   'urlToImage': 'https://static.reuters.com/resources/r/?m=02&d=20210616&t=2&i=1565932063&r=LYNXNPEH5F13P&w=800',\n",
       "   'publishedAt': '2021-06-16T17:20:00Z',\n",
       "   'content': 'By Reuters Staff\\r\\nSAN SALVADOR (Reuters) - El Salvador will not replace the U.S. dollar with bitcoin as the legal tender, Finance Minister Alejandro Zelaya said on Wednesday, as the Central American … [+1110 chars]'},\n",
       "  {'source': {'id': 'techcrunch', 'name': 'TechCrunch'},\n",
       "   'author': 'Natasha Mascarenhas',\n",
       "   'title': 'What does Uber and birth control have in common?',\n",
       "   'description': 'Hello and welcome back to\\xa0Equity, TechCrunch’s venture capital-focused podcast where we unpack the numbers behind the headlines. This is Equity Monday, our morning coffee chat with you that is all about the weekend, what to expect this week, and some funding …',\n",
       "   'url': 'http://techcrunch.com/2021/06/14/what-does-uber-and-birth-control-have-in-common/',\n",
       "   'urlToImage': 'https://techcrunch.com/wp-content/uploads/2020/07/equity-podcast-2019-phone.jpg?w=711',\n",
       "   'publishedAt': '2021-06-14T14:48:53Z',\n",
       "   'content': 'Hello and welcome back to\\xa0Equity, TechCrunchs venture capital-focused podcast where we unpack the numbers behind the headlines.\\r\\nThis is Equity Monday, our morning coffee chat with you that is all ab… [+2045 chars]'},\n",
       "  {'source': {'id': None, 'name': 'MarketBeat'},\n",
       "   'author': 'Melissa Brock',\n",
       "   'title': 'Gold is Dead? Should You Opt for Gold (Over Crypto) in Your Portfolio?',\n",
       "   'description': \"Bitcoin transactions are recorded on a blockchain, a distributed ledger that cannot fail. Government doesn't control bitcoin (unlike banks) and that's...\",\n",
       "   'url': 'https://www.marketbeat.com/originals/should-you-opt-for-gold-over-crypto-in-your-portfolio/?utm_source=entrepreneurcom&amp;amp;utm_medium=entrepreneurcom',\n",
       "   'urlToImage': 'https://assets.entrepreneur.com/content/3x2/2000/20160408155709-default-hero-entrepreneur.png',\n",
       "   'publishedAt': '2021-06-22T10:10:00Z',\n",
       "   'content': \"This story originally appeared on MarketBeatWhen meme coins surged earlier this year (remember Dogecoin mania?) it might've been easy to dump everything you owned — stocks, bonds, gold — for crypto. … [+6151 chars]\"},\n",
       "  {'source': {'id': 'reuters', 'name': 'Reuters'},\n",
       "   'author': 'Reuters Staff',\n",
       "   'title': 'UPDATE 1-Bitcoin rises 9.8% to $39,035 - Reuters',\n",
       "   'description': 'Bitcoin surged 9.8% to $39,035.47 on Sunday, adding $3,492.71 to its previous close.',\n",
       "   'url': 'https://www.reuters.com/article/crypto-currency-bitcoin-idUSL2N2NV0MV',\n",
       "   'urlToImage': 'https://s1.reutersmedia.net/resources_v2/images/rcom-default.png?w=800',\n",
       "   'publishedAt': '2021-06-13T22:32:00Z',\n",
       "   'content': 'By Reuters Staff\\r\\n(Adds context, background)\\r\\nJune 13 (Reuters) - Bitcoin surged 9.8% to $39,035.47 on Sunday, adding $3,492.71 to its previous close.\\r\\nBitcoin, the worlds biggest and best-known cryp… [+877 chars]'},\n",
       "  {'source': {'id': 'reuters', 'name': 'Reuters'},\n",
       "   'author': 'Reuters',\n",
       "   'title': 'Cryptocurrencies tumble amid China crackdown on bitcoin miners - Reuters',\n",
       "   'description': \"Cryptocurrencies tumbled on Monday as China's crackdown on bitcoin mining expanded to the province of Sichuan.\",\n",
       "   'url': 'https://www.reuters.com/technology/cryptocurrencies-tumble-amid-china-crackdown-bitcoin-miners-2021-06-21/',\n",
       "   'urlToImage': 'https://www.reuters.com/resizer/vrrOc0dnUuHV9__Plp9bJglZGWs=/800x419/smart/filters:quality(80)/cloudfront-us-east-2.images.arcpublishing.com/reuters/7GDD6S7NDRPEFFFAZVABH2K454.jpg',\n",
       "   'publishedAt': '2021-06-21T07:12:00Z',\n",
       "   'content': \"TOKYO, June 21 (Reuters) - Cryptocurrencies tumbled on Monday as China's crackdown on bitcoin mining expanded to the province of Sichuan. read more \\r\\nBitcoin fell to as low as $32,288 for the first t… [+377 chars]\"},\n",
       "  {'source': {'id': 'reuters', 'name': 'Reuters'},\n",
       "   'author': 'Tom Wilson',\n",
       "   'title': \"Boom, bust and bewildered: Bitcoin's year so far - Reuters\",\n",
       "   'description': \"If you're a bitcoin investor, your nerves may have taken quite a pounding in 2021.\",\n",
       "   'url': 'https://www.reuters.com/technology/boom-bust-bewildered-bitcoins-year-so-far-2021-06-30/',\n",
       "   'urlToImage': 'https://www.reuters.com/resizer/Iz_V3_lUcgBTBIkxGaqEvdnifa0=/1200x628/smart/filters:quality(80)/cloudfront-us-east-2.images.arcpublishing.com/reuters/3GKHTWVGDVPXNFB47P2YJYB5UY.jpg',\n",
       "   'publishedAt': '2021-06-30T13:46:00Z',\n",
       "   'content': \"A representation of virtual currency Bitcoin is seen in front of a stock graph in this illustration taken March 15, 2021. REUTERS/Dado Ruvic/IllustrationLONDON, June 30 (Reuters) - If you're a bitcoi… [+3630 chars]\"},\n",
       "  {'source': {'id': 'reuters', 'name': 'Reuters'},\n",
       "   'author': 'Reuters Staff',\n",
       "   'title': 'Bitcoin falls 5.71% To $35,210 - Reuters',\n",
       "   'description': 'Bitcoin dropped 5.71% to $35,210 at 0600 GMT on Saturday, losing $2,131.11 from its previous close.',\n",
       "   'url': 'https://www.reuters.com/article/us-crypto-currency-bitcoin-idUSKCN2DO04G',\n",
       "   'urlToImage': 'https://static.reuters.com/resources/r/?m=02&d=20210612&t=2&i=1565434395&r=LYNXNPEH5B02M&w=800',\n",
       "   'publishedAt': '2021-06-12T06:14:00Z',\n",
       "   'content': 'By Reuters Staff\\r\\nFILE PHOTO: Representations of the Bitcoin cryptocurrency are seen in this picture illustration taken June 7, 2021. REUTERS/Edgar Su/Illustration\\r\\n(Reuters) - Bitcoin dropped 5.71% … [+336 chars]'},\n",
       "  {'source': {'id': 'reuters', 'name': 'Reuters'},\n",
       "   'author': 'Reuters',\n",
       "   'title': 'Bitcoin falls 5.71% To $35210 - Reuters',\n",
       "   'description': 'Bitcoin dropped 5.71% to $35,210 at 0600 GMT on Saturday, losing $2,131.11 from its previous close.',\n",
       "   'url': 'https://www.reuters.com/technology/bitcoin-falls-571-35210-2021-06-12/',\n",
       "   'urlToImage': 'https://www.reuters.com/resizer/j8PipUjhcKlApC7h9bndMTNqNGs=/800x419/smart/filters:quality(80)/cloudfront-us-east-2.images.arcpublishing.com/reuters/YCALUCQPZJLGJFKFMXD6TX5CV4.jpg',\n",
       "   'publishedAt': '2021-06-12T06:26:00Z',\n",
       "   'content': \"Bitcoin dropped 5.71% to $35,210 at 0600 GMT on Saturday, losing $2,131.11 from its previous close.\\r\\nBitcoin, the world's biggest and best-known cryptocurrency, is down 45.7% from its 2021 high of $6… [+215 chars]\"},\n",
       "  {'source': {'id': 'reuters', 'name': 'Reuters'},\n",
       "   'author': 'Reuters',\n",
       "   'title': 'Bitcoin falls 7.4 percent to $32094 - Reuters',\n",
       "   'description': 'Bitcoin dropped 7.37% to $32,094.44 on Friday, losing $2,554.88 from its previous close.',\n",
       "   'url': 'https://www.reuters.com/technology/bitcoin-falls-74-percent-32094-2021-06-25/',\n",
       "   'urlToImage': 'https://www.reuters.com/resizer/EA_FhvXIW0VXFcNDdLs7vrbpIYg=/1200x628/smart/filters:quality(80)/cloudfront-us-east-2.images.arcpublishing.com/reuters/QLML2PWULBJHRGKWO6BATZD6OY.jpg',\n",
       "   'publishedAt': '2021-06-25T20:21:00Z',\n",
       "   'content': 'A representation of the virtual cryptocurrency Bitcoin is seen in this picture illustration taken June 14, 2021. REUTERS/Edgar Su/IllustrationJune 25 (Reuters) - Bitcoin dropped 7.37% to $32,094.44 o… [+434 chars]'},\n",
       "  {'source': {'id': 'reuters', 'name': 'Reuters'},\n",
       "   'author': 'Reuters Editorial',\n",
       "   'title': 'Bitcoin slumps after China crackdown - Reuters',\n",
       "   'description': \"Bitcoin tumbled on Monday after news of a fresh crackdown on the cryptocurrency's miners in China.\",\n",
       "   'url': 'https://www.reuters.com/video/watch/idP60K?now=true',\n",
       "   'urlToImage': 'https://ajo.prod.reuters.tv/api/v2/img/60d06bb0e4b0653eea188161-1624271792852?location=LANDSCAPE',\n",
       "   'publishedAt': '2021-06-21T11:01:03Z',\n",
       "   'content': \"Posted \\r\\nBitcoin tumbled on Monday after news of a fresh crackdown on the cryptocurrency's miners in China.\"},\n",
       "  {'source': {'id': 'reuters', 'name': 'Reuters'},\n",
       "   'author': 'Reuters',\n",
       "   'title': 'Bitcoin falls 8.6% to $32540 - Reuters',\n",
       "   'description': 'Bitcoin dipped 8.57% to $32,540.35 at 2011 GMT on Monday, losing $3,049.42 from its previous close.',\n",
       "   'url': 'https://www.reuters.com/technology/bitcoin-falls-86-32540-2021-06-21/',\n",
       "   'urlToImage': 'https://www.reuters.com/resizer/EA_FhvXIW0VXFcNDdLs7vrbpIYg=/1200x628/smart/filters:quality(80)/cloudfront-us-east-2.images.arcpublishing.com/reuters/QLML2PWULBJHRGKWO6BATZD6OY.jpg',\n",
       "   'publishedAt': '2021-06-21T20:35:00Z',\n",
       "   'content': \"June 21 (Reuters) - Bitcoin dipped 8.57% to $32,540.35 at 2011 GMT on Monday, losing $3,049.42 from its previous close.\\r\\nBitcoin, the world's biggest and best-known cryptocurrency, is down 49.9% from… [+308 chars]\"},\n",
       "  {'source': {'id': 'reuters', 'name': 'Reuters'},\n",
       "   'author': 'Reuters Staff',\n",
       "   'title': 'Bitcoin falls 8.6% to $32,540 - Reuters',\n",
       "   'description': 'Bitcoin dipped 8.57% to $32,540.35 at 2011 GMT on Monday, losing $3,049.42 from its previous close.',\n",
       "   'url': 'https://www.reuters.com/article/crypto-currency-bitcoin-idUSL3N2O341V',\n",
       "   'urlToImage': 'https://s1.reutersmedia.net/resources_v2/images/rcom-default.png?w=800',\n",
       "   'publishedAt': '2021-06-21T20:16:00Z',\n",
       "   'content': 'By Reuters Staff\\r\\nJune 21 (Reuters) - Bitcoin dipped 8.57% to $32,540.35 at 2011 GMT on Monday, losing $3,049.42 from its previous close.\\r\\nBitcoin, the worlds biggest and best-known cryptocurrency, i… [+269 chars]'},\n",
       "  {'source': {'id': 'reuters', 'name': 'Reuters'},\n",
       "   'author': 'Reuters Staff',\n",
       "   'title': 'Bitcoin rises 5.4% to $36,361.69 - Reuters',\n",
       "   'description': 'Bitcoin rose 5.44% to $36,361.69 on Tuesday, adding $1,874.58 to its previous close.',\n",
       "   'url': 'https://www.reuters.com/article/us-crypto-currency-bitcoin-idUSKCN2E52H9',\n",
       "   'urlToImage': 'https://static.reuters.com/resources/r/?m=02&d=20210629&t=2&i=1567370357&r=LYNXNPEH5S1BR&w=800',\n",
       "   'publishedAt': '2021-06-29T20:21:00Z',\n",
       "   'content': 'By Reuters Staff\\r\\nFILE PHOTO: Representations of the Bitcoin cryptocurrency are seen in this illustration picture taken June 7, 2021. REUTERS/Edgar Su/Illustration/File Photo\\r\\n(Reuters) - Bitcoin ros… [+304 chars]'},\n",
       "  {'source': {'id': 'reuters', 'name': 'Reuters'},\n",
       "   'author': 'Reuters Staff',\n",
       "   'title': 'Bitcoin falls 7.4 percent to $32,094 - Reuters',\n",
       "   'description': 'Bitcoin dropped 7.37% to $32,094.44 on Friday, losing $2,554.88 from its previous close.',\n",
       "   'url': 'https://www.reuters.com/article/crypto-currency-bitcoin-idUSL3N2O73G4',\n",
       "   'urlToImage': 'https://s1.reutersmedia.net/resources_v2/images/rcom-default.png?w=800',\n",
       "   'publishedAt': '2021-06-25T20:12:00Z',\n",
       "   'content': 'By Reuters Staff\\r\\nJune 25 (Reuters) - Bitcoin dropped 7.37% to $32,094.44 on Friday, losing $2,554.88 from its previous close.\\r\\nBitcoin, the worlds biggest and best-known cryptocurrency, is down 50.5… [+253 chars]'}]}"
      ]
     },
     "execution_count": 40,
     "metadata": {},
     "output_type": "execute_result"
    }
   ],
   "source": [
    "btc_news"
   ]
  },
  {
   "cell_type": "code",
   "execution_count": 16,
   "metadata": {},
   "outputs": [],
   "source": [
    "# Fetch the Ethereum news articles\n",
    "# YOUR CODE HERE!\n",
    "eth_news = newsapi.get_everything(\n",
    "    q=\"ethereum\",\n",
    "    language=\"en\",\n",
    "#    page_size=100,\n",
    "    sort_by=\"relevancy\"\n",
    ")"
   ]
  },
  {
   "cell_type": "code",
   "execution_count": 17,
   "metadata": {},
   "outputs": [
    {
     "name": "stdout",
     "output_type": "stream",
     "text": [
      "Total articles about Ethereum: 2250\n"
     ]
    },
    {
     "data": {
      "text/plain": [
       "{'source': {'id': 'mashable', 'name': 'Mashable'},\n",
       " 'author': 'Joseph Green',\n",
       " 'title': 'This blockchain development course bundle is on sale for 97% off',\n",
       " 'description': 'TL;DR: The Cryptocurrency with Ethereum and Solidity Blockchain Developer Bundle is on sale for £21.25 as of June 17, saving you 97% on list price.\\n\\nIs everyone you know investing in cryptocurrency? The Cryptocurrency with Ethereum and Solidity Blockchain Dev…',\n",
       " 'url': 'https://mashable.com/uk/shopping/june-17-cryptocurrency-ethereum-and-solidity-blockchain-developer-bundle/',\n",
       " 'urlToImage': 'https://mondrian.mashable.com/2021%252F06%252F17%252Fa4%252Fd95c8d39ee014266beea8c6b9d053d19.1c765.jpg%252F1200x630.jpg?signature=13rMcdTv3FsupfDx5m8coAhsN-4=',\n",
       " 'publishedAt': '2021-06-17T04:05:00Z',\n",
       " 'content': 'TL;DR: The Cryptocurrency with Ethereum and Solidity Blockchain Developer Bundle is on sale for £21.25 as of June 17, saving you 97% on list price.\\r\\nIs everyone you know investing in cryptocurrency? … [+949 chars]'}"
      ]
     },
     "execution_count": 17,
     "metadata": {},
     "output_type": "execute_result"
    }
   ],
   "source": [
    "# Print total articles\n",
    "print(f\"Total articles about Ethereum: {eth_news['totalResults']}\")\n",
    "\n",
    "# Show sample article\n",
    "eth_news[\"articles\"][0]"
   ]
  },
  {
   "cell_type": "code",
   "execution_count": 31,
   "metadata": {},
   "outputs": [],
   "source": [
    "def create_df(news):\n",
    "    cnt=0\n",
    "    articles = []\n",
    "    for article in news:\n",
    "        try:\n",
    "            title = article[\"title\"]\n",
    "            description = article[\"description\"]\n",
    "            text = article[\"content\"]\n",
    "            date = article[\"publishedAt\"][:10]\n",
    "            sentiment = analyzer.polarity_scores(text)\n",
    "            compound = sentiment[\"compound\"]\n",
    "            pos = sentiment[\"pos\"]\n",
    "            neu = sentiment[\"neu\"]\n",
    "            neg = sentiment[\"neg\"]\n",
    "            articles.append({\n",
    "                \"title\": title,\n",
    "                \"description\": description,\n",
    "                \"text\": text,\n",
    "                \"date\": date,\n",
    "                \"compound\": compound,\n",
    "                \"positive\": pos,\n",
    "                \"negative\": neg,\n",
    "                \"neutral\": neu\n",
    "            })\n",
    "        except AttributeError:\n",
    "            cnt=cnt+1\n",
    "            print(cnt)\n",
    "            pass\n",
    "\n",
    "    return pd.DataFrame(articles), cnt"
   ]
  },
  {
   "cell_type": "code",
   "execution_count": 32,
   "metadata": {},
   "outputs": [],
   "source": [
    "# Create the Bitcoin sentiment scores DataFrame\n",
    "# YOUR CODE HERE!\n",
    "btc_sm_df, c1 = create_df(btc_news[\"articles\"])"
   ]
  },
  {
   "cell_type": "code",
   "execution_count": 33,
   "metadata": {},
   "outputs": [
    {
     "data": {
      "text/plain": [
       "0"
      ]
     },
     "execution_count": 33,
     "metadata": {},
     "output_type": "execute_result"
    }
   ],
   "source": [
    "c1"
   ]
  },
  {
   "cell_type": "code",
   "execution_count": 35,
   "metadata": {},
   "outputs": [
    {
     "ename": "IndexError",
     "evalue": "list index out of range",
     "output_type": "error",
     "traceback": [
      "\u001b[1;31m---------------------------------------------------------------------------\u001b[0m",
      "\u001b[1;31mIndexError\u001b[0m                                Traceback (most recent call last)",
      "\u001b[1;32m<ipython-input-35-278d9eae2cba>\u001b[0m in \u001b[0;36m<module>\u001b[1;34m\u001b[0m\n\u001b[1;32m----> 1\u001b[1;33m \u001b[0mbtc_news\u001b[0m\u001b[1;33m[\u001b[0m\u001b[1;34m\"articles\"\u001b[0m\u001b[1;33m]\u001b[0m\u001b[1;33m[\u001b[0m\u001b[1;36m2000\u001b[0m\u001b[1;33m]\u001b[0m\u001b[1;33m\u001b[0m\u001b[1;33m\u001b[0m\u001b[0m\n\u001b[0m",
      "\u001b[1;31mIndexError\u001b[0m: list index out of range"
     ]
    }
   ],
   "source": [
    "btc_news[\"articles\"][2000]"
   ]
  },
  {
   "cell_type": "code",
   "execution_count": 27,
   "metadata": {},
   "outputs": [
    {
     "data": {
      "text/html": [
       "<div>\n",
       "<style scoped>\n",
       "    .dataframe tbody tr th:only-of-type {\n",
       "        vertical-align: middle;\n",
       "    }\n",
       "\n",
       "    .dataframe tbody tr th {\n",
       "        vertical-align: top;\n",
       "    }\n",
       "\n",
       "    .dataframe thead th {\n",
       "        text-align: right;\n",
       "    }\n",
       "</style>\n",
       "<table border=\"1\" class=\"dataframe\">\n",
       "  <thead>\n",
       "    <tr style=\"text-align: right;\">\n",
       "      <th></th>\n",
       "      <th>compound</th>\n",
       "      <th>date</th>\n",
       "      <th>description</th>\n",
       "      <th>negative</th>\n",
       "      <th>neutral</th>\n",
       "      <th>positive</th>\n",
       "      <th>text</th>\n",
       "      <th>title</th>\n",
       "    </tr>\n",
       "  </thead>\n",
       "  <tbody>\n",
       "    <tr>\n",
       "      <th>0</th>\n",
       "      <td>0.6908</td>\n",
       "      <td>2021-06-14</td>\n",
       "      <td>It's all about clean energy, it seems. \\nElon ...</td>\n",
       "      <td>0.000</td>\n",
       "      <td>0.831</td>\n",
       "      <td>0.169</td>\n",
       "      <td>It's all about clean energy, it seems. \\r\\nElo...</td>\n",
       "      <td>Elon Musk says Tesla will resume Bitcoin purch...</td>\n",
       "    </tr>\n",
       "    <tr>\n",
       "      <th>1</th>\n",
       "      <td>-0.5719</td>\n",
       "      <td>2021-07-05</td>\n",
       "      <td>Three days after ransomware attackers hijacked...</td>\n",
       "      <td>0.184</td>\n",
       "      <td>0.705</td>\n",
       "      <td>0.111</td>\n",
       "      <td>Filed under:\\r\\nThe supply chain attack has re...</td>\n",
       "      <td>Kaseya ransomware attackers demand $70 million...</td>\n",
       "    </tr>\n",
       "    <tr>\n",
       "      <th>2</th>\n",
       "      <td>-0.6124</td>\n",
       "      <td>2021-07-05</td>\n",
       "      <td>The authors of a \"colossal\" ransomware attack ...</td>\n",
       "      <td>0.143</td>\n",
       "      <td>0.857</td>\n",
       "      <td>0.000</td>\n",
       "      <td>image copyrightGetty Images\\r\\nThe gang behind...</td>\n",
       "      <td>Gang behind huge cyber-attack demands $70m in ...</td>\n",
       "    </tr>\n",
       "    <tr>\n",
       "      <th>3</th>\n",
       "      <td>0.1280</td>\n",
       "      <td>2021-06-16</td>\n",
       "      <td>El Salvador will not replace the U.S. dollar w...</td>\n",
       "      <td>0.000</td>\n",
       "      <td>0.957</td>\n",
       "      <td>0.043</td>\n",
       "      <td>SAN SALVADOR, June 16 (Reuters) - El Salvador ...</td>\n",
       "      <td>El Salvador to keep dollar as legal tender, se...</td>\n",
       "    </tr>\n",
       "    <tr>\n",
       "      <th>4</th>\n",
       "      <td>0.2023</td>\n",
       "      <td>2021-06-23</td>\n",
       "      <td>El Salvador is determined to push ahead with m...</td>\n",
       "      <td>0.058</td>\n",
       "      <td>0.833</td>\n",
       "      <td>0.108</td>\n",
       "      <td>LONDON, June 23 (Reuters) - El Salvador is det...</td>\n",
       "      <td>El Salvador bitcoin plan \"bulletproof\", presid...</td>\n",
       "    </tr>\n",
       "    <tr>\n",
       "      <th>5</th>\n",
       "      <td>0.2023</td>\n",
       "      <td>2021-06-23</td>\n",
       "      <td>El Salvador is determined to push ahead with m...</td>\n",
       "      <td>0.057</td>\n",
       "      <td>0.838</td>\n",
       "      <td>0.105</td>\n",
       "      <td>LONDON, June 23 (Reuters) - El Salvador is det...</td>\n",
       "      <td>El Salvador bitcoin plan 'bulletproof', presid...</td>\n",
       "    </tr>\n",
       "    <tr>\n",
       "      <th>6</th>\n",
       "      <td>0.1280</td>\n",
       "      <td>2021-06-16</td>\n",
       "      <td>El Salvador will not replace the U.S. dollar w...</td>\n",
       "      <td>0.000</td>\n",
       "      <td>0.955</td>\n",
       "      <td>0.045</td>\n",
       "      <td>By Reuters Staff\\r\\nSAN SALVADOR (Reuters) - E...</td>\n",
       "      <td>UPDATE 1-El Salvador to keep dollar as legal t...</td>\n",
       "    </tr>\n",
       "    <tr>\n",
       "      <th>7</th>\n",
       "      <td>0.4588</td>\n",
       "      <td>2021-06-14</td>\n",
       "      <td>Hello and welcome back to Equity, TechCrunch’s...</td>\n",
       "      <td>0.000</td>\n",
       "      <td>0.917</td>\n",
       "      <td>0.083</td>\n",
       "      <td>Hello and welcome back to Equity, TechCrunchs ...</td>\n",
       "      <td>What does Uber and birth control have in common?</td>\n",
       "    </tr>\n",
       "    <tr>\n",
       "      <th>8</th>\n",
       "      <td>0.0772</td>\n",
       "      <td>2021-06-22</td>\n",
       "      <td>Bitcoin transactions are recorded on a blockch...</td>\n",
       "      <td>0.075</td>\n",
       "      <td>0.841</td>\n",
       "      <td>0.084</td>\n",
       "      <td>This story originally appeared on MarketBeatWh...</td>\n",
       "      <td>Gold is Dead? Should You Opt for Gold (Over Cr...</td>\n",
       "    </tr>\n",
       "    <tr>\n",
       "      <th>9</th>\n",
       "      <td>0.0000</td>\n",
       "      <td>2021-06-13</td>\n",
       "      <td>Bitcoin surged 9.8% to $39,035.47 on Sunday, a...</td>\n",
       "      <td>0.000</td>\n",
       "      <td>1.000</td>\n",
       "      <td>0.000</td>\n",
       "      <td>By Reuters Staff\\r\\n(Adds context, background)...</td>\n",
       "      <td>UPDATE 1-Bitcoin rises 9.8% to $39,035 - Reuters</td>\n",
       "    </tr>\n",
       "    <tr>\n",
       "      <th>10</th>\n",
       "      <td>-0.2732</td>\n",
       "      <td>2021-06-21</td>\n",
       "      <td>Cryptocurrencies tumbled on Monday as China's ...</td>\n",
       "      <td>0.058</td>\n",
       "      <td>0.942</td>\n",
       "      <td>0.000</td>\n",
       "      <td>TOKYO, June 21 (Reuters) - Cryptocurrencies tu...</td>\n",
       "      <td>Cryptocurrencies tumble amid China crackdown o...</td>\n",
       "    </tr>\n",
       "    <tr>\n",
       "      <th>11</th>\n",
       "      <td>0.0000</td>\n",
       "      <td>2021-06-30</td>\n",
       "      <td>If you're a bitcoin investor, your nerves may ...</td>\n",
       "      <td>0.000</td>\n",
       "      <td>1.000</td>\n",
       "      <td>0.000</td>\n",
       "      <td>A representation of virtual currency Bitcoin i...</td>\n",
       "      <td>Boom, bust and bewildered: Bitcoin's year so f...</td>\n",
       "    </tr>\n",
       "    <tr>\n",
       "      <th>12</th>\n",
       "      <td>0.0000</td>\n",
       "      <td>2021-06-12</td>\n",
       "      <td>Bitcoin dropped 5.71% to $35,210 at 0600 GMT o...</td>\n",
       "      <td>0.000</td>\n",
       "      <td>1.000</td>\n",
       "      <td>0.000</td>\n",
       "      <td>By Reuters Staff\\r\\nFILE PHOTO: Representation...</td>\n",
       "      <td>Bitcoin falls 5.71% To $35,210 - Reuters</td>\n",
       "    </tr>\n",
       "    <tr>\n",
       "      <th>13</th>\n",
       "      <td>-0.3818</td>\n",
       "      <td>2021-06-12</td>\n",
       "      <td>Bitcoin dropped 5.71% to $35,210 at 0600 GMT o...</td>\n",
       "      <td>0.073</td>\n",
       "      <td>0.927</td>\n",
       "      <td>0.000</td>\n",
       "      <td>Bitcoin dropped 5.71% to $35,210 at 0600 GMT o...</td>\n",
       "      <td>Bitcoin falls 5.71% To $35210 - Reuters</td>\n",
       "    </tr>\n",
       "    <tr>\n",
       "      <th>14</th>\n",
       "      <td>0.0000</td>\n",
       "      <td>2021-06-25</td>\n",
       "      <td>Bitcoin dropped 7.37% to $32,094.44 on Friday,...</td>\n",
       "      <td>0.000</td>\n",
       "      <td>1.000</td>\n",
       "      <td>0.000</td>\n",
       "      <td>A representation of the virtual cryptocurrency...</td>\n",
       "      <td>Bitcoin falls 7.4 percent to $32094 - Reuters</td>\n",
       "    </tr>\n",
       "    <tr>\n",
       "      <th>15</th>\n",
       "      <td>0.3182</td>\n",
       "      <td>2021-06-21</td>\n",
       "      <td>Bitcoin tumbled on Monday after news of a fres...</td>\n",
       "      <td>0.000</td>\n",
       "      <td>0.867</td>\n",
       "      <td>0.133</td>\n",
       "      <td>Posted \\r\\nBitcoin tumbled on Monday after new...</td>\n",
       "      <td>Bitcoin slumps after China crackdown - Reuters</td>\n",
       "    </tr>\n",
       "    <tr>\n",
       "      <th>16</th>\n",
       "      <td>-0.3818</td>\n",
       "      <td>2021-06-21</td>\n",
       "      <td>Bitcoin dipped 8.57% to $32,540.35 at 2011 GMT...</td>\n",
       "      <td>0.077</td>\n",
       "      <td>0.923</td>\n",
       "      <td>0.000</td>\n",
       "      <td>June 21 (Reuters) - Bitcoin dipped 8.57% to $3...</td>\n",
       "      <td>Bitcoin falls 8.6% to $32540 - Reuters</td>\n",
       "    </tr>\n",
       "    <tr>\n",
       "      <th>17</th>\n",
       "      <td>-0.3818</td>\n",
       "      <td>2021-06-21</td>\n",
       "      <td>Bitcoin dipped 8.57% to $32,540.35 at 2011 GMT...</td>\n",
       "      <td>0.077</td>\n",
       "      <td>0.923</td>\n",
       "      <td>0.000</td>\n",
       "      <td>By Reuters Staff\\r\\nJune 21 (Reuters) - Bitcoi...</td>\n",
       "      <td>Bitcoin falls 8.6% to $32,540 - Reuters</td>\n",
       "    </tr>\n",
       "    <tr>\n",
       "      <th>18</th>\n",
       "      <td>0.0000</td>\n",
       "      <td>2021-06-29</td>\n",
       "      <td>Bitcoin rose 5.44% to $36,361.69 on Tuesday, a...</td>\n",
       "      <td>0.000</td>\n",
       "      <td>1.000</td>\n",
       "      <td>0.000</td>\n",
       "      <td>By Reuters Staff\\r\\nFILE PHOTO: Representation...</td>\n",
       "      <td>Bitcoin rises 5.4% to $36,361.69 - Reuters</td>\n",
       "    </tr>\n",
       "    <tr>\n",
       "      <th>19</th>\n",
       "      <td>-0.3818</td>\n",
       "      <td>2021-06-25</td>\n",
       "      <td>Bitcoin dropped 7.37% to $32,094.44 on Friday,...</td>\n",
       "      <td>0.080</td>\n",
       "      <td>0.920</td>\n",
       "      <td>0.000</td>\n",
       "      <td>By Reuters Staff\\r\\nJune 25 (Reuters) - Bitcoi...</td>\n",
       "      <td>Bitcoin falls 7.4 percent to $32,094 - Reuters</td>\n",
       "    </tr>\n",
       "  </tbody>\n",
       "</table>\n",
       "</div>"
      ],
      "text/plain": [
       "    compound        date                                        description  \\\n",
       "0     0.6908  2021-06-14  It's all about clean energy, it seems. \\nElon ...   \n",
       "1    -0.5719  2021-07-05  Three days after ransomware attackers hijacked...   \n",
       "2    -0.6124  2021-07-05  The authors of a \"colossal\" ransomware attack ...   \n",
       "3     0.1280  2021-06-16  El Salvador will not replace the U.S. dollar w...   \n",
       "4     0.2023  2021-06-23  El Salvador is determined to push ahead with m...   \n",
       "5     0.2023  2021-06-23  El Salvador is determined to push ahead with m...   \n",
       "6     0.1280  2021-06-16  El Salvador will not replace the U.S. dollar w...   \n",
       "7     0.4588  2021-06-14  Hello and welcome back to Equity, TechCrunch’s...   \n",
       "8     0.0772  2021-06-22  Bitcoin transactions are recorded on a blockch...   \n",
       "9     0.0000  2021-06-13  Bitcoin surged 9.8% to $39,035.47 on Sunday, a...   \n",
       "10   -0.2732  2021-06-21  Cryptocurrencies tumbled on Monday as China's ...   \n",
       "11    0.0000  2021-06-30  If you're a bitcoin investor, your nerves may ...   \n",
       "12    0.0000  2021-06-12  Bitcoin dropped 5.71% to $35,210 at 0600 GMT o...   \n",
       "13   -0.3818  2021-06-12  Bitcoin dropped 5.71% to $35,210 at 0600 GMT o...   \n",
       "14    0.0000  2021-06-25  Bitcoin dropped 7.37% to $32,094.44 on Friday,...   \n",
       "15    0.3182  2021-06-21  Bitcoin tumbled on Monday after news of a fres...   \n",
       "16   -0.3818  2021-06-21  Bitcoin dipped 8.57% to $32,540.35 at 2011 GMT...   \n",
       "17   -0.3818  2021-06-21  Bitcoin dipped 8.57% to $32,540.35 at 2011 GMT...   \n",
       "18    0.0000  2021-06-29  Bitcoin rose 5.44% to $36,361.69 on Tuesday, a...   \n",
       "19   -0.3818  2021-06-25  Bitcoin dropped 7.37% to $32,094.44 on Friday,...   \n",
       "\n",
       "    negative  neutral  positive  \\\n",
       "0      0.000    0.831     0.169   \n",
       "1      0.184    0.705     0.111   \n",
       "2      0.143    0.857     0.000   \n",
       "3      0.000    0.957     0.043   \n",
       "4      0.058    0.833     0.108   \n",
       "5      0.057    0.838     0.105   \n",
       "6      0.000    0.955     0.045   \n",
       "7      0.000    0.917     0.083   \n",
       "8      0.075    0.841     0.084   \n",
       "9      0.000    1.000     0.000   \n",
       "10     0.058    0.942     0.000   \n",
       "11     0.000    1.000     0.000   \n",
       "12     0.000    1.000     0.000   \n",
       "13     0.073    0.927     0.000   \n",
       "14     0.000    1.000     0.000   \n",
       "15     0.000    0.867     0.133   \n",
       "16     0.077    0.923     0.000   \n",
       "17     0.077    0.923     0.000   \n",
       "18     0.000    1.000     0.000   \n",
       "19     0.080    0.920     0.000   \n",
       "\n",
       "                                                 text  \\\n",
       "0   It's all about clean energy, it seems. \\r\\nElo...   \n",
       "1   Filed under:\\r\\nThe supply chain attack has re...   \n",
       "2   image copyrightGetty Images\\r\\nThe gang behind...   \n",
       "3   SAN SALVADOR, June 16 (Reuters) - El Salvador ...   \n",
       "4   LONDON, June 23 (Reuters) - El Salvador is det...   \n",
       "5   LONDON, June 23 (Reuters) - El Salvador is det...   \n",
       "6   By Reuters Staff\\r\\nSAN SALVADOR (Reuters) - E...   \n",
       "7   Hello and welcome back to Equity, TechCrunchs ...   \n",
       "8   This story originally appeared on MarketBeatWh...   \n",
       "9   By Reuters Staff\\r\\n(Adds context, background)...   \n",
       "10  TOKYO, June 21 (Reuters) - Cryptocurrencies tu...   \n",
       "11  A representation of virtual currency Bitcoin i...   \n",
       "12  By Reuters Staff\\r\\nFILE PHOTO: Representation...   \n",
       "13  Bitcoin dropped 5.71% to $35,210 at 0600 GMT o...   \n",
       "14  A representation of the virtual cryptocurrency...   \n",
       "15  Posted \\r\\nBitcoin tumbled on Monday after new...   \n",
       "16  June 21 (Reuters) - Bitcoin dipped 8.57% to $3...   \n",
       "17  By Reuters Staff\\r\\nJune 21 (Reuters) - Bitcoi...   \n",
       "18  By Reuters Staff\\r\\nFILE PHOTO: Representation...   \n",
       "19  By Reuters Staff\\r\\nJune 25 (Reuters) - Bitcoi...   \n",
       "\n",
       "                                                title  \n",
       "0   Elon Musk says Tesla will resume Bitcoin purch...  \n",
       "1   Kaseya ransomware attackers demand $70 million...  \n",
       "2   Gang behind huge cyber-attack demands $70m in ...  \n",
       "3   El Salvador to keep dollar as legal tender, se...  \n",
       "4   El Salvador bitcoin plan \"bulletproof\", presid...  \n",
       "5   El Salvador bitcoin plan 'bulletproof', presid...  \n",
       "6   UPDATE 1-El Salvador to keep dollar as legal t...  \n",
       "7    What does Uber and birth control have in common?  \n",
       "8   Gold is Dead? Should You Opt for Gold (Over Cr...  \n",
       "9    UPDATE 1-Bitcoin rises 9.8% to $39,035 - Reuters  \n",
       "10  Cryptocurrencies tumble amid China crackdown o...  \n",
       "11  Boom, bust and bewildered: Bitcoin's year so f...  \n",
       "12           Bitcoin falls 5.71% To $35,210 - Reuters  \n",
       "13            Bitcoin falls 5.71% To $35210 - Reuters  \n",
       "14      Bitcoin falls 7.4 percent to $32094 - Reuters  \n",
       "15     Bitcoin slumps after China crackdown - Reuters  \n",
       "16             Bitcoin falls 8.6% to $32540 - Reuters  \n",
       "17            Bitcoin falls 8.6% to $32,540 - Reuters  \n",
       "18         Bitcoin rises 5.4% to $36,361.69 - Reuters  \n",
       "19     Bitcoin falls 7.4 percent to $32,094 - Reuters  "
      ]
     },
     "execution_count": 27,
     "metadata": {},
     "output_type": "execute_result"
    }
   ],
   "source": [
    "btc_sm_df"
   ]
  },
  {
   "cell_type": "code",
   "execution_count": 7,
   "metadata": {},
   "outputs": [],
   "source": [
    "# Create the Ethereum sentiment scores DataFrame\n",
    "# YOUR CODE HERE!"
   ]
  },
  {
   "cell_type": "code",
   "execution_count": 8,
   "metadata": {},
   "outputs": [],
   "source": [
    "# Describe the Bitcoin Sentiment\n",
    "# YOUR CODE HERE!"
   ]
  },
  {
   "cell_type": "code",
   "execution_count": 9,
   "metadata": {},
   "outputs": [],
   "source": [
    "# Describe the Ethereum Sentiment\n",
    "# YOUR CODE HERE!"
   ]
  },
  {
   "cell_type": "markdown",
   "metadata": {},
   "source": [
    "### Questions:\n",
    "\n",
    "Q: Which coin had the highest mean positive score?\n",
    "\n",
    "A: \n",
    "\n",
    "Q: Which coin had the highest compound score?\n",
    "\n",
    "A: \n",
    "\n",
    "Q. Which coin had the highest positive score?\n",
    "\n",
    "A: "
   ]
  },
  {
   "cell_type": "markdown",
   "metadata": {},
   "source": [
    "---"
   ]
  },
  {
   "cell_type": "markdown",
   "metadata": {},
   "source": [
    "## 2. Natural Language Processing\n",
    "---\n",
    "###   Tokenizer\n",
    "\n",
    "In this section, you will use NLTK and Python to tokenize the text for each coin. Be sure to:\n",
    "1. Lowercase each word.\n",
    "2. Remove Punctuation.\n",
    "3. Remove Stopwords."
   ]
  },
  {
   "cell_type": "code",
   "execution_count": 10,
   "metadata": {},
   "outputs": [],
   "source": [
    "from nltk.tokenize import word_tokenize, sent_tokenize\n",
    "from nltk.corpus import stopwords\n",
    "from nltk.stem import WordNetLemmatizer, PorterStemmer\n",
    "from string import punctuation\n",
    "import re"
   ]
  },
  {
   "cell_type": "code",
   "execution_count": 11,
   "metadata": {},
   "outputs": [],
   "source": [
    "# Instantiate the lemmatizer\n",
    "# YOUR CODE HERE!\n",
    "\n",
    "# Create a list of stopwords\n",
    "# YOUR CODE HERE!\n",
    "\n",
    "# Expand the default stopwords list if necessary\n",
    "# YOUR CODE HERE!"
   ]
  },
  {
   "cell_type": "code",
   "execution_count": 12,
   "metadata": {},
   "outputs": [],
   "source": [
    "# Complete the tokenizer function\n",
    "def tokenizer(text):\n",
    "    \"\"\"Tokenizes text.\"\"\"\n",
    "    \n",
    "    # Remove the punctuation from text\n",
    "\n",
    "   \n",
    "    # Create a tokenized list of the words\n",
    "    \n",
    "    \n",
    "    # Lemmatize words into root words\n",
    "\n",
    "   \n",
    "    # Convert the words to lowercase\n",
    "    \n",
    "    \n",
    "    # Remove the stop words\n",
    "    \n",
    "    \n",
    "    return tokens"
   ]
  },
  {
   "cell_type": "code",
   "execution_count": 13,
   "metadata": {},
   "outputs": [],
   "source": [
    "# Create a new tokens column for Bitcoin\n",
    "# YOUR CODE HERE!"
   ]
  },
  {
   "cell_type": "code",
   "execution_count": 14,
   "metadata": {},
   "outputs": [],
   "source": [
    "# Create a new tokens column for Ethereum\n",
    "# YOUR CODE HERE!"
   ]
  },
  {
   "cell_type": "markdown",
   "metadata": {},
   "source": [
    "---"
   ]
  },
  {
   "cell_type": "markdown",
   "metadata": {},
   "source": [
    "### NGrams and Frequency Analysis\n",
    "\n",
    "In this section you will look at the ngrams and word frequency for each coin. \n",
    "\n",
    "1. Use NLTK to produce the n-grams for N = 2. \n",
    "2. List the top 10 words for each coin. "
   ]
  },
  {
   "cell_type": "code",
   "execution_count": 15,
   "metadata": {},
   "outputs": [],
   "source": [
    "from collections import Counter\n",
    "from nltk import ngrams"
   ]
  },
  {
   "cell_type": "code",
   "execution_count": 16,
   "metadata": {},
   "outputs": [],
   "source": [
    "# Generate the Bitcoin N-grams where N=2\n",
    "# YOUR CODE HERE!"
   ]
  },
  {
   "cell_type": "code",
   "execution_count": 17,
   "metadata": {},
   "outputs": [],
   "source": [
    "# Generate the Ethereum N-grams where N=2\n",
    "# YOUR CODE HERE!"
   ]
  },
  {
   "cell_type": "code",
   "execution_count": 18,
   "metadata": {},
   "outputs": [],
   "source": [
    "# Function token_count generates the top 10 words for a given coin\n",
    "def token_count(tokens, N=3):\n",
    "    \"\"\"Returns the top N tokens from the frequency count\"\"\"\n",
    "    return Counter(tokens).most_common(N)"
   ]
  },
  {
   "cell_type": "code",
   "execution_count": 19,
   "metadata": {},
   "outputs": [],
   "source": [
    "# Use token_count to get the top 10 words for Bitcoin\n",
    "# YOUR CODE HERE!"
   ]
  },
  {
   "cell_type": "code",
   "execution_count": 20,
   "metadata": {},
   "outputs": [],
   "source": [
    "# Use token_count to get the top 10 words for Ethereum\n",
    "# YOUR CODE HERE!"
   ]
  },
  {
   "cell_type": "markdown",
   "metadata": {},
   "source": [
    "---"
   ]
  },
  {
   "cell_type": "markdown",
   "metadata": {},
   "source": [
    "### Word Clouds\n",
    "\n",
    "In this section, you will generate word clouds for each coin to summarize the news for each coin"
   ]
  },
  {
   "cell_type": "code",
   "execution_count": 21,
   "metadata": {},
   "outputs": [],
   "source": [
    "from wordcloud import WordCloud\n",
    "import matplotlib.pyplot as plt\n",
    "plt.style.use('seaborn-whitegrid')\n",
    "import matplotlib as mpl\n",
    "mpl.rcParams['figure.figsize'] = [20.0, 10.0]"
   ]
  },
  {
   "cell_type": "code",
   "execution_count": 22,
   "metadata": {},
   "outputs": [],
   "source": [
    "# Generate the Bitcoin word cloud\n",
    "# YOUR CODE HERE!"
   ]
  },
  {
   "cell_type": "code",
   "execution_count": 23,
   "metadata": {},
   "outputs": [],
   "source": [
    "# Generate the Ethereum word cloud\n",
    "# YOUR CODE HERE!"
   ]
  },
  {
   "cell_type": "markdown",
   "metadata": {},
   "source": [
    "---\n",
    "## 3. Named Entity Recognition\n",
    "\n",
    "In this section, you will build a named entity recognition model for both Bitcoin and Ethereum, then visualize the tags using SpaCy."
   ]
  },
  {
   "cell_type": "code",
   "execution_count": 24,
   "metadata": {},
   "outputs": [],
   "source": [
    "import spacy\n",
    "from spacy import displacy"
   ]
  },
  {
   "cell_type": "code",
   "execution_count": 25,
   "metadata": {},
   "outputs": [],
   "source": [
    "# Download the language model for SpaCy\n",
    "# !python -m spacy download en_core_web_sm"
   ]
  },
  {
   "cell_type": "code",
   "execution_count": 26,
   "metadata": {},
   "outputs": [],
   "source": [
    "# Load the spaCy model\n",
    "nlp = spacy.load('en_core_web_sm')"
   ]
  },
  {
   "cell_type": "markdown",
   "metadata": {},
   "source": [
    "---\n",
    "### Bitcoin NER"
   ]
  },
  {
   "cell_type": "code",
   "execution_count": 27,
   "metadata": {},
   "outputs": [],
   "source": [
    "# Concatenate all of the Bitcoin text together\n",
    "# YOUR CODE HERE!"
   ]
  },
  {
   "cell_type": "code",
   "execution_count": 28,
   "metadata": {},
   "outputs": [],
   "source": [
    "# Run the NER processor on all of the text\n",
    "# YOUR CODE HERE!\n",
    "\n",
    "# Add a title to the document\n",
    "# YOUR CODE HERE!"
   ]
  },
  {
   "cell_type": "code",
   "execution_count": 29,
   "metadata": {},
   "outputs": [],
   "source": [
    "# Render the visualization\n",
    "# YOUR CODE HERE!"
   ]
  },
  {
   "cell_type": "code",
   "execution_count": 30,
   "metadata": {},
   "outputs": [],
   "source": [
    "# List all Entities\n",
    "# YOUR CODE HERE!"
   ]
  },
  {
   "cell_type": "markdown",
   "metadata": {},
   "source": [
    "---"
   ]
  },
  {
   "cell_type": "markdown",
   "metadata": {},
   "source": [
    "### Ethereum NER"
   ]
  },
  {
   "cell_type": "code",
   "execution_count": 31,
   "metadata": {},
   "outputs": [],
   "source": [
    "# Concatenate all of the Ethereum text together\n",
    "# YOUR CODE HERE!"
   ]
  },
  {
   "cell_type": "code",
   "execution_count": 32,
   "metadata": {},
   "outputs": [],
   "source": [
    "# Run the NER processor on all of the text\n",
    "# YOUR CODE HERE!\n",
    "\n",
    "# Add a title to the document\n",
    "# YOUR CODE HERE!"
   ]
  },
  {
   "cell_type": "code",
   "execution_count": 33,
   "metadata": {},
   "outputs": [],
   "source": [
    "# Render the visualization\n",
    "# YOUR CODE HERE!"
   ]
  },
  {
   "cell_type": "code",
   "execution_count": 34,
   "metadata": {},
   "outputs": [],
   "source": [
    "# List all Entities\n",
    "# YOUR CODE HERE!"
   ]
  },
  {
   "cell_type": "markdown",
   "metadata": {},
   "source": [
    "---"
   ]
  }
 ],
 "metadata": {
  "file_extension": ".py",
  "kernelspec": {
   "display_name": "nlpenv",
   "language": "python",
   "name": "nlpenv"
  },
  "language_info": {
   "codemirror_mode": {
    "name": "ipython",
    "version": 3
   },
   "file_extension": ".py",
   "mimetype": "text/x-python",
   "name": "python",
   "nbconvert_exporter": "python",
   "pygments_lexer": "ipython3",
   "version": "3.7.9"
  },
  "mimetype": "text/x-python",
  "name": "python",
  "npconvert_exporter": "python",
  "pygments_lexer": "ipython3",
  "version": 3
 },
 "nbformat": 4,
 "nbformat_minor": 4
}
